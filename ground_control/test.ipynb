{
 "cells": [
  {
   "cell_type": "code",
   "execution_count": 32,
   "metadata": {},
   "outputs": [
    {
     "ename": "NameError",
     "evalue": "name 'percentage' is not defined",
     "output_type": "error",
     "traceback": [
      "\u001b[0;31m---------------------------------------------------------------------------\u001b[0m",
      "\u001b[0;31mNameError\u001b[0m                                 Traceback (most recent call last)",
      "Cell \u001b[0;32mIn[32], line 11\u001b[0m\n\u001b[1;32m      8\u001b[0m height\u001b[38;5;241m=\u001b[39m\u001b[38;5;241m8\u001b[39m\n\u001b[1;32m      9\u001b[0m plt\u001b[38;5;241m.\u001b[39mplot_size(width\u001b[38;5;241m=\u001b[39mwidth, height\u001b[38;5;241m=\u001b[39m\u001b[38;5;241m20\u001b[39m)\n\u001b[0;32m---> 11\u001b[0m plt\u001b[38;5;241m.\u001b[39mbar(pizzas, \u001b[43mpercentage\u001b[49m, orientation\u001b[38;5;241m=\u001b[39m\u001b[38;5;124m'\u001b[39m\u001b[38;5;124mh\u001b[39m\u001b[38;5;124m'\u001b[39m)\n\u001b[1;32m     12\u001b[0m \u001b[38;5;66;03m# plt.show()\u001b[39;00m\n",
      "\u001b[0;31mNameError\u001b[0m: name 'percentage' is not defined"
     ]
    }
   ],
   "source": [
    "import plotext as plt\n",
    "\n",
    "pizzas = [\"Sausage\", \"Pepperoni\", \"Mushrooms\", \"Cheese\", \"Chicken\", \"Beef\"]\n",
    "percentages = [14, 36, 11, 8, 7, 4]\n",
    "plt.clear_figure()\n",
    "plt.theme(\"pro\")\n",
    "width=20height=8\n",
    "plt.plot_size(width=width, height=height)\n",
    "\n",
    "plt.bar(pizzas, percentages, orientation='h')\n",
    "# plt.show()"
   ]
  },
  {
   "cell_type": "code",
   "execution_count": 33,
   "metadata": {},
   "outputs": [
    {
     "data": {
      "text/plain": [
       "['┌──────────────────┐',\n",
       " '│                  │',\n",
       " '│                  │',\n",
       " '│                  │',\n",
       " '│                  │',\n",
       " '│                  │',\n",
       " '│                  │',\n",
       " '│                  │',\n",
       " '│                  │',\n",
       " '│                  │',\n",
       " '│                  │',\n",
       " '│                  │',\n",
       " '│                  │',\n",
       " '│                  │',\n",
       " '│                  │',\n",
       " '│                  │',\n",
       " '│                  │',\n",
       " '│                  │',\n",
       " '│                  │',\n",
       " '└──────────────────┘',\n",
       " '']"
      ]
     },
     "execution_count": 33,
     "metadata": {},
     "output_type": "execute_result"
    }
   ],
   "source": [
    "ansi2rich(plt.build()).replace(\"\\x1b[0m\",\"\").replace(\"\\x1b[1m\",\"\").split(\"\\n\")"
   ]
  },
  {
   "cell_type": "code",
   "execution_count": 31,
   "metadata": {},
   "outputs": [
    {
     "data": {
      "text/plain": [
       "29"
      ]
     },
     "execution_count": 31,
     "metadata": {},
     "output_type": "execute_result"
    }
   ],
   "source": [
    "len('         │[blue]██[/]       │')"
   ]
  },
  {
   "cell_type": "code",
   "execution_count": 20,
   "metadata": {},
   "outputs": [
    {
     "name": "stdout",
     "output_type": "stream",
     "text": [
      "         ┌─────────────────────────────────────────────────────────────────────┐\u001b[0m\n",
      "         │\u001b[0m\u001b[38;5;12m█████████\u001b[0m                                                            │\u001b[0m\n",
      "     Beef┤\u001b[0m\u001b[38;5;12m█████████\u001b[0m                                                            │\u001b[0m\n",
      "         │\u001b[0m\u001b[38;5;12m█████████\u001b[0m                                                            │\u001b[0m\n",
      "         │\u001b[0m\u001b[38;5;12m██████████████\u001b[0m                                                       │\u001b[0m\n",
      "  Chicken┤\u001b[0m\u001b[38;5;12m██████████████\u001b[0m                                                       │\u001b[0m\n",
      "         │\u001b[0m\u001b[38;5;12m██████████████\u001b[0m                                                       │\u001b[0m\n",
      "         │\u001b[0m\u001b[38;5;12m████████████████\u001b[0m                                                     │\u001b[0m\n",
      "   Cheese┤\u001b[0m\u001b[38;5;12m████████████████\u001b[0m                                                     │\u001b[0m\n",
      "         │\u001b[0m\u001b[38;5;12m████████████████\u001b[0m                                                     │\u001b[0m\n",
      "         │\u001b[0m\u001b[38;5;12m██████████████████████\u001b[0m                                               │\u001b[0m\n",
      "Mushrooms┤\u001b[0m\u001b[38;5;12m██████████████████████\u001b[0m                                               │\u001b[0m\n",
      "         │\u001b[0m\u001b[38;5;12m██████████████████████\u001b[0m                                               │\u001b[0m\n",
      "         │\u001b[0m\u001b[38;5;12m█████████████████████████████████████████████████████████████████████\u001b[0m│\u001b[0m\n",
      "Pepperoni┤\u001b[0m\u001b[38;5;12m█████████████████████████████████████████████████████████████████████\u001b[0m│\u001b[0m\n",
      "         │\u001b[0m\u001b[38;5;12m█████████████████████████████████████████████████████████████████████\u001b[0m│\u001b[0m\n",
      "         │\u001b[0m\u001b[38;5;12m█████████████████████████████████████████████████████████████████████\u001b[0m│\u001b[0m\n",
      "  Sausage┤\u001b[0m\u001b[38;5;12m███████████████████████████\u001b[0m                                          │\u001b[0m\n",
      "         │\u001b[0m\u001b[38;5;12m███████████████████████████\u001b[0m                                          │\u001b[0m\n",
      "         │\u001b[0m\u001b[38;5;12m███████████████████████████\u001b[0m                                          │\u001b[0m\n",
      "         └┬────────────────┬────────────────┬────────────────┬────────────────┬┘\u001b[0m\n",
      "          0                9               18               27               36 \u001b[0m\n"
     ]
    }
   ],
   "source": [
    "plt.show()"
   ]
  },
  {
   "cell_type": "code",
   "execution_count": 9,
   "metadata": {},
   "outputs": [],
   "source": [
    "import re\n",
    "def ansi2rich(text: str) -> str:\n",
    "    \"\"\"Replace ANSI color sequences with Rich markup.\"\"\"\n",
    "    color_map = {\n",
    "        '12': 'blue',\n",
    "        '10': 'green',\n",
    "        '7': 'bold',\n",
    "    }\n",
    "    \n",
    "    for ansi_code, rich_color in color_map.items():\n",
    "        pattern = fr'\\x1b\\[38;5;{ansi_code}m(.*?)\\x1b\\[0m'\n",
    "        text = re.sub(pattern, fr'[{rich_color}]\\1[/]', text)\n",
    "    return text\n"
   ]
  },
  {
   "cell_type": "code",
   "execution_count": 6,
   "metadata": {},
   "outputs": [
    {
     "name": "stdout",
     "output_type": "stream",
     "text": [
      "\u001b[1m\u001b[38;5;7m─────────────────────── Most Favored Pizzas in the World ───────────────────────\u001b[0m\u001b[0m\n",
      "\u001b[1m\u001b[38;5;7mSausage  \u001b[0m\u001b[0m \u001b[38;5;12m▇▇▇▇▇▇▇▇▇▇▇▇▇▇▇▇▇▇▇▇▇▇▇▇▇\u001b[0m \u001b[1m\u001b[38;5;7m14.00\u001b[0m\u001b[0m\n",
      "\u001b[1m\u001b[38;5;7mPepperoni\u001b[0m\u001b[0m \u001b[38;5;12m▇▇▇▇▇▇▇▇▇▇▇▇▇▇▇▇▇▇▇▇▇▇▇▇▇▇▇▇▇▇▇▇▇▇▇▇▇▇▇▇▇▇▇▇▇▇▇▇▇▇▇▇▇▇▇▇▇▇▇▇▇▇▇▇▇\u001b[0m \u001b[1m\u001b[38;5;7m36.00\u001b[0m\u001b[0m\n",
      "\u001b[1m\u001b[38;5;7mMushrooms\u001b[0m\u001b[0m \u001b[38;5;12m▇▇▇▇▇▇▇▇▇▇▇▇▇▇▇▇▇▇▇▇\u001b[0m \u001b[1m\u001b[38;5;7m11.00\u001b[0m\u001b[0m\n",
      "\u001b[1m\u001b[38;5;7mCheese   \u001b[0m\u001b[0m \u001b[38;5;12m▇▇▇▇▇▇▇▇▇▇▇▇▇▇\u001b[0m \u001b[1m\u001b[38;5;7m8.00\u001b[0m\u001b[0m\n",
      "\u001b[1m\u001b[38;5;7mChicken  \u001b[0m\u001b[0m \u001b[38;5;12m▇▇▇▇▇▇▇▇▇▇▇▇▇\u001b[0m \u001b[1m\u001b[38;5;7m7.00\u001b[0m\u001b[0m\n",
      "\u001b[1m\u001b[38;5;7mBeef     \u001b[0m\u001b[0m \u001b[38;5;12m▇▇▇▇▇▇▇\u001b[0m \u001b[1m\u001b[38;5;7m4.00\u001b[0m\u001b[0m\n"
     ]
    }
   ],
   "source": [
    "plt.show()"
   ]
  }
 ],
 "metadata": {
  "kernelspec": {
   "display_name": "MONO3D",
   "language": "python",
   "name": "python3"
  },
  "language_info": {
   "codemirror_mode": {
    "name": "ipython",
    "version": 3
   },
   "file_extension": ".py",
   "mimetype": "text/x-python",
   "name": "python",
   "nbconvert_exporter": "python",
   "pygments_lexer": "ipython3",
   "version": "3.10.9"
  }
 },
 "nbformat": 4,
 "nbformat_minor": 2
}
