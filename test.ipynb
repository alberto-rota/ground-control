{
 "cells": [
  {
   "cell_type": "code",
   "execution_count": null,
   "metadata": {},
   "outputs": [
    {
     "name": "stdout",
     "output_type": "stream",
     "text": [
      "\u001bc     ┌───────────────────────────────────────────┐\u001b[0m\n",
      " 1.00┤\u001b[0m\u001b[38;5;12m⢀⠴⠊⠉⠉⠑⠢⢄\u001b[0m                                   │\u001b[0m\n",
      "     │\u001b[0m\u001b[38;5;12m⠁\u001b[0m      \u001b[0m\u001b[38;5;12m⠈⠢⡀\u001b[0m                               \u001b[0m\u001b[38;5;12m⡔⠊\u001b[0m│\u001b[0m\n",
      " 0.67┤         \u001b[0m\u001b[38;5;12m⠈⢢\u001b[0m                            \u001b[0m\u001b[38;5;12m⢀⠔⠁\u001b[0m │\u001b[0m\n",
      "     │           \u001b[0m\u001b[38;5;12m⠣⡀\u001b[0m                         \u001b[0m\u001b[38;5;12m⡰⠁\u001b[0m   │\u001b[0m\n",
      " 0.33┤            \u001b[0m\u001b[38;5;12m⠑⢄\u001b[0m                       \u001b[0m\u001b[38;5;12m⡠⠃\u001b[0m    │\u001b[0m\n",
      " 0.00┤             \u001b[0m\u001b[38;5;12m⠘⡄\u001b[0m                    \u001b[0m\u001b[38;5;12m⢀⠜\u001b[0m      │\u001b[0m\n",
      "     │              \u001b[0m\u001b[38;5;12m⠈⢆\u001b[0m                   \u001b[0m\u001b[38;5;12m⡎\u001b[0m       │\u001b[0m\n",
      "-0.33┤                \u001b[0m\u001b[38;5;12m⢣\u001b[0m                \u001b[0m\u001b[38;5;12m⢀⠎\u001b[0m        │\u001b[0m\n",
      "     │                \u001b[0m\u001b[38;5;12m⠈⠢⡀\u001b[0m             \u001b[0m\u001b[38;5;12m⡠⠃\u001b[0m         │\u001b[0m\n",
      "-0.67┤                  \u001b[0m\u001b[38;5;12m⠑⢄\u001b[0m           \u001b[0m\u001b[38;5;12m⡠⠃\u001b[0m          │\u001b[0m\n",
      "     │                   \u001b[0m\u001b[38;5;12m⠈⠢⡀\u001b[0m       \u001b[0m\u001b[38;5;12m⡠⠊\u001b[0m            │\u001b[0m\n",
      "-1.00┤                     \u001b[0m\u001b[38;5;12m⠈⠑⠤⣀⣀⡠⠤⠊⠁\u001b[0m             │\u001b[0m\n",
      "     └┬──────────┬─────────┬──────────┬─────────┬┘\u001b[0m\n",
      "     1.0       25.8      50.5       75.2    100.0 \u001b[0m\n",
      "\n"
     ]
    }
   ],
   "source": [
    "import plotext as plt\n",
    "import time\n",
    "import numpy as np\n",
    "t = 0\n",
    "# plt.interactive(True)   \n",
    "plt.plotsize(50, 15)\n",
    "plt.theme(\"pro\")\n",
    "# while True:\n",
    "t +=1\n",
    "x = np.linspace(0, 1, 100)\n",
    "y = np.sin(2 * np.pi * x+t)\n",
    "plt.clear_data()\n",
    "plt.clear_terminal() \n",
    "plt.plot(y,marker=\"braille\")\n",
    "y = np.sin(4 * np.pi * x+t)\n",
    "plt.plot(y,marker=\"braille\")\n",
    "print(plt.build().__str__())\n",
    "    # time.sleep(1)"
   ]
  },
  {
   "cell_type": "code",
   "execution_count": 26,
   "metadata": {},
   "outputs": [
    {
     "data": {
      "text/plain": [
       "'     ┌───────────────────────────────────────────┐\\x1b[0m\\n 1.00┤\\x1b[0m\\x1b[38;5;12m⢀⠴⠊⠉⠉⠑⠢⢄\\x1b[0m                                   │\\x1b[0m\\n     │\\x1b[0m\\x1b[38;5;12m⠁\\x1b[0m      \\x1b[0m\\x1b[38;5;12m⠈⠢⡀\\x1b[0m                               \\x1b[0m\\x1b[38;5;12m⡔⠊\\x1b[0m│\\x1b[0m\\n 0.67┤         \\x1b[0m\\x1b[38;5;12m⠈⢢\\x1b[0m                            \\x1b[0m\\x1b[38;5;12m⢀⠔⠁\\x1b[0m │\\x1b[0m\\n     │           \\x1b[0m\\x1b[38;5;12m⠣⡀\\x1b[0m                         \\x1b[0m\\x1b[38;5;12m⡰⠁\\x1b[0m   │\\x1b[0m\\n 0.33┤            \\x1b[0m\\x1b[38;5;12m⠑⢄\\x1b[0m                       \\x1b[0m\\x1b[38;5;12m⡠⠃\\x1b[0m    │\\x1b[0m\\n 0.00┤             \\x1b[0m\\x1b[38;5;12m⠘⡄\\x1b[0m                    \\x1b[0m\\x1b[38;5;12m⢀⠜\\x1b[0m      │\\x1b[0m\\n     │              \\x1b[0m\\x1b[38;5;12m⠈⢆\\x1b[0m                   \\x1b[0m\\x1b[38;5;12m⡎\\x1b[0m       │\\x1b[0m\\n-0.33┤                \\x1b[0m\\x1b[38;5;12m⢣\\x1b[0m                \\x1b[0m\\x1b[38;5;12m⢀⠎\\x1b[0m        │\\x1b[0m\\n     │                \\x1b[0m\\x1b[38;5;12m⠈⠢⡀\\x1b[0m             \\x1b[0m\\x1b[38;5;12m⡠⠃\\x1b[0m         │\\x1b[0m\\n-0.67┤                  \\x1b[0m\\x1b[38;5;12m⠑⢄\\x1b[0m           \\x1b[0m\\x1b[38;5;12m⡠⠃\\x1b[0m          │\\x1b[0m\\n     │                   \\x1b[0m\\x1b[38;5;12m⠈⠢⡀\\x1b[0m       \\x1b[0m\\x1b[38;5;12m⡠⠊\\x1b[0m            │\\x1b[0m\\n-1.00┤                     \\x1b[0m\\x1b[38;5;12m⠈⠑⠤⣀⣀⡠⠤⠊⠁\\x1b[0m             │\\x1b[0m\\n     └┬──────────┬─────────┬──────────┬─────────┬┘\\x1b[0m\\n     1.0       25.8      50.5       75.2    100.0 \\x1b[0m\\n'"
      ]
     },
     "execution_count": 26,
     "metadata": {},
     "output_type": "execute_result"
    }
   ],
   "source": [
    "plt.build()"
   ]
  },
  {
   "cell_type": "code",
   "execution_count": 27,
   "metadata": {},
   "outputs": [
    {
     "data": {
      "text/plain": [
       "'     ┌───────────────────────────────────────────┐\\x1b[0m\\n 1.00┤\\x1b[0m\\x1b[38;5;12m⢀⠴⠊⠉⠉⠑⠢⢄\\x1b[0m                                   │\\x1b[0m\\n     │\\x1b[0m\\x1b[38;5;12m⠁\\x1b[0m      \\x1b[0m\\x1b[38;5;12m⠈⠢⡀\\x1b[0m                               \\x1b[0m\\x1b[38;5;12m⡔⠊\\x1b[0m│\\x1b[0m\\n 0.67┤         \\x1b[0m\\x1b[38;5;12m⠈⢢\\x1b[0m                            \\x1b[0m\\x1b[38;5;12m⢀⠔⠁\\x1b[0m │\\x1b[0m\\n     │           \\x1b[0m\\x1b[38;5;12m⠣⡀\\x1b[0m                         \\x1b[0m\\x1b[38;5;12m⡰⠁\\x1b[0m   │\\x1b[0m\\n 0.33┤            \\x1b[0m\\x1b[38;5;12m⠑⢄\\x1b[0m                       \\x1b[0m\\x1b[38;5;12m⡠⠃\\x1b[0m    │\\x1b[0m\\n 0.00┤             \\x1b[0m\\x1b[38;5;12m⠘⡄\\x1b[0m                    \\x1b[0m\\x1b[38;5;12m⢀⠜\\x1b[0m      │\\x1b[0m\\n     │              \\x1b[0m\\x1b[38;5;12m⠈⢆\\x1b[0m                   \\x1b[0m\\x1b[38;5;12m⡎\\x1b[0m       │\\x1b[0m\\n-0.33┤                \\x1b[0m\\x1b[38;5;12m⢣\\x1b[0m                \\x1b[0m\\x1b[38;5;12m⢀⠎\\x1b[0m        │\\x1b[0m\\n     │                \\x1b[0m\\x1b[38;5;12m⠈⠢⡀\\x1b[0m             \\x1b[0m\\x1b[38;5;12m⡠⠃\\x1b[0m         │\\x1b[0m\\n-0.67┤                  \\x1b[0m\\x1b[38;5;12m⠑⢄\\x1b[0m           \\x1b[0m\\x1b[38;5;12m⡠⠃\\x1b[0m          │\\x1b[0m\\n     │                   \\x1b[0m\\x1b[38;5;12m⠈⠢⡀\\x1b[0m       \\x1b[0m\\x1b[38;5;12m⡠⠊\\x1b[0m            │\\x1b[0m\\n-1.00┤                     \\x1b[0m\\x1b[38;5;12m⠈⠑⠤⣀⣀⡠⠤⠊⠁\\x1b[0m             │\\x1b[0m\\n     └┬──────────┬─────────┬──────────┬─────────┬┘\\x1b[0m\\n     1.0       25.8      50.5       75.2    100.0 \\x1b[0m\\n                                                  '"
      ]
     },
     "execution_count": 27,
     "metadata": {},
     "output_type": "execute_result"
    }
   ],
   "source": [
    "padstr(plt.build())#, 50, 15)"
   ]
  },
  {
   "cell_type": "code",
   "execution_count": 25,
   "metadata": {},
   "outputs": [
    {
     "data": {
      "text/plain": [
       "[50, 50, 50, 50, 50, 50, 50, 50, 50, 50, 50, 50, 50, 50, 50, 0]"
      ]
     },
     "execution_count": 25,
     "metadata": {},
     "output_type": "execute_result"
    }
   ],
   "source": [
    "[get_visible_length(padstr(x)) for x in plt.build().split(\"\\n\")]#.replace(\" \",\".\")"
   ]
  },
  {
   "cell_type": "code",
   "execution_count": 37,
   "metadata": {},
   "outputs": [],
   "source": [
    "import re\n",
    "def blueout(text: str) -> str:\n",
    "    \"\"\"Replace ANSI blue color sequence with Rich blue markup.\"\"\"\n",
    "    pattern = r'\\x1b\\[38;5;12m(.*?)\\x1b\\[0m'\n",
    "    return re.sub(pattern, r'[blue]\\1[/]', text)"
   ]
  },
  {
   "cell_type": "code",
   "execution_count": 38,
   "metadata": {},
   "outputs": [
    {
     "data": {
      "text/plain": [
       "'     ┌───────────────────────────────────────────┐\\x1b[0m\\n 1.00┤\\x1b[0m[blue]⢀⠴⠊⠉⠉⠑⠢⢄[/]                                   │\\x1b[0m\\n     │\\x1b[0m[blue]⠁[/]      \\x1b[0m[blue]⠈⠢⡀[/]                               \\x1b[0m[blue]⡔⠊[/]│\\x1b[0m\\n 0.67┤         \\x1b[0m[blue]⠈⢢[/]                            \\x1b[0m[blue]⢀⠔⠁[/] │\\x1b[0m\\n     │           \\x1b[0m[blue]⠣⡀[/]                         \\x1b[0m[blue]⡰⠁[/]   │\\x1b[0m\\n 0.33┤            \\x1b[0m[blue]⠑⢄[/]                       \\x1b[0m[blue]⡠⠃[/]    │\\x1b[0m\\n 0.00┤             \\x1b[0m[blue]⠘⡄[/]                    \\x1b[0m[blue]⢀⠜[/]      │\\x1b[0m\\n     │              \\x1b[0m[blue]⠈⢆[/]                   \\x1b[0m[blue]⡎[/]       │\\x1b[0m\\n-0.33┤                \\x1b[0m[blue]⢣[/]                \\x1b[0m[blue]⢀⠎[/]        │\\x1b[0m\\n     │                \\x1b[0m[blue]⠈⠢⡀[/]             \\x1b[0m[blue]⡠⠃[/]         │\\x1b[0m\\n-0.67┤                  \\x1b[0m[blue]⠑⢄[/]           \\x1b[0m[blue]⡠⠃[/]          │\\x1b[0m\\n     │                   \\x1b[0m[blue]⠈⠢⡀[/]       \\x1b[0m[blue]⡠⠊[/]            │\\x1b[0m\\n-1.00┤                     \\x1b[0m[blue]⠈⠑⠤⣀⣀⡠⠤⠊⠁[/]             │\\x1b[0m\\n     └┬──────────┬─────────┬──────────┬─────────┬┘\\x1b[0m\\n     1.0       25.8      50.5       75.2    100.0 \\x1b[0m\\n'"
      ]
     },
     "execution_count": 38,
     "metadata": {},
     "output_type": "execute_result"
    }
   ],
   "source": [
    "blueout(plt.build())"
   ]
  },
  {
   "cell_type": "code",
   "execution_count": null,
   "metadata": {},
   "outputs": [
    {
     "data": {
      "text/html": [
       "<pre style=\"white-space:pre;overflow-x:auto;line-height:normal;font-family:Menlo,'DejaVu Sans Mono',consolas,'Courier New',monospace\">     ┌───────────────────────────────────────────┐\n",
       " <span style=\"color: #008080; text-decoration-color: #008080; font-weight: bold\">1.00</span>┤<span style=\"color: #000080; text-decoration-color: #000080\">⢀⠴⠊⠉⠉⠑⠢⢄</span>                                   │\n",
       "     │<span style=\"color: #000080; text-decoration-color: #000080\">⠁</span>      <span style=\"color: #000080; text-decoration-color: #000080\">⠈⠢⡀</span>                               <span style=\"color: #000080; text-decoration-color: #000080\">⡔⠊</span>│\n",
       " <span style=\"color: #008080; text-decoration-color: #008080; font-weight: bold\">0.67</span>┤         <span style=\"color: #000080; text-decoration-color: #000080\">⠈⢢</span>                            <span style=\"color: #000080; text-decoration-color: #000080\">⢀⠔⠁</span> │\n",
       "     │           <span style=\"color: #000080; text-decoration-color: #000080\">⠣⡀</span>                         <span style=\"color: #000080; text-decoration-color: #000080\">⡰⠁</span>   │\n",
       " <span style=\"color: #008080; text-decoration-color: #008080; font-weight: bold\">0.33</span>┤            <span style=\"color: #000080; text-decoration-color: #000080\">⠑⢄</span>                       <span style=\"color: #000080; text-decoration-color: #000080\">⡠⠃</span>    │\n",
       " <span style=\"color: #008080; text-decoration-color: #008080; font-weight: bold\">0.00</span>┤             <span style=\"color: #000080; text-decoration-color: #000080\">⠘⡄</span>                    <span style=\"color: #000080; text-decoration-color: #000080\">⢀⠜</span>      │\n",
       "     │              <span style=\"color: #000080; text-decoration-color: #000080\">⠈⢆</span>                   <span style=\"color: #000080; text-decoration-color: #000080\">⡎</span>       │\n",
       "<span style=\"color: #008080; text-decoration-color: #008080; font-weight: bold\">-0.33</span>┤                <span style=\"color: #000080; text-decoration-color: #000080\">⢣</span>                <span style=\"color: #000080; text-decoration-color: #000080\">⢀⠎</span>        │\n",
       "     │                <span style=\"color: #000080; text-decoration-color: #000080\">⠈⠢⡀</span>             <span style=\"color: #000080; text-decoration-color: #000080\">⡠⠃</span>         │\n",
       "<span style=\"color: #008080; text-decoration-color: #008080; font-weight: bold\">-0.67</span>┤                  <span style=\"color: #000080; text-decoration-color: #000080\">⠑⢄</span>           <span style=\"color: #000080; text-decoration-color: #000080\">⡠⠃</span>          │\n",
       "     │                   <span style=\"color: #000080; text-decoration-color: #000080\">⠈⠢⡀</span>       <span style=\"color: #000080; text-decoration-color: #000080\">⡠⠊</span>            │\n",
       "<span style=\"color: #008080; text-decoration-color: #008080; font-weight: bold\">-1.00</span>┤                     <span style=\"color: #000080; text-decoration-color: #000080\">⠈⠑⠤⣀⣀⡠⠤⠊⠁</span>             │\n",
       "     └┬──────────┬─────────┬──────────┬─────────┬┘\n",
       "     <span style=\"color: #008080; text-decoration-color: #008080; font-weight: bold\">1.0</span>       <span style=\"color: #008080; text-decoration-color: #008080; font-weight: bold\">25.8</span>      <span style=\"color: #008080; text-decoration-color: #008080; font-weight: bold\">50.5</span>       <span style=\"color: #008080; text-decoration-color: #008080; font-weight: bold\">75.2</span>    <span style=\"color: #008080; text-decoration-color: #008080; font-weight: bold\">100.0</span> \n",
       "\n",
       "</pre>\n"
      ],
      "text/plain": [
       "     ┌───────────────────────────────────────────┐\n",
       " \u001b[1;36m1.00\u001b[0m┤\u001b[34m⢀⠴⠊⠉⠉⠑⠢⢄\u001b[0m                                   │\n",
       "     │\u001b[34m⠁\u001b[0m      \u001b[34m⠈⠢⡀\u001b[0m                               \u001b[34m⡔⠊\u001b[0m│\n",
       " \u001b[1;36m0.67\u001b[0m┤         \u001b[34m⠈⢢\u001b[0m                            \u001b[34m⢀⠔⠁\u001b[0m │\n",
       "     │           \u001b[34m⠣⡀\u001b[0m                         \u001b[34m⡰⠁\u001b[0m   │\n",
       " \u001b[1;36m0.33\u001b[0m┤            \u001b[34m⠑⢄\u001b[0m                       \u001b[34m⡠⠃\u001b[0m    │\n",
       " \u001b[1;36m0.00\u001b[0m┤             \u001b[34m⠘⡄\u001b[0m                    \u001b[34m⢀⠜\u001b[0m      │\n",
       "     │              \u001b[34m⠈⢆\u001b[0m                   \u001b[34m⡎\u001b[0m       │\n",
       "\u001b[1;36m-0.33\u001b[0m┤                \u001b[34m⢣\u001b[0m                \u001b[34m⢀⠎\u001b[0m        │\n",
       "     │                \u001b[34m⠈⠢⡀\u001b[0m             \u001b[34m⡠⠃\u001b[0m         │\n",
       "\u001b[1;36m-0.67\u001b[0m┤                  \u001b[34m⠑⢄\u001b[0m           \u001b[34m⡠⠃\u001b[0m          │\n",
       "     │                   \u001b[34m⠈⠢⡀\u001b[0m       \u001b[34m⡠⠊\u001b[0m            │\n",
       "\u001b[1;36m-1.00\u001b[0m┤                     \u001b[34m⠈⠑⠤⣀⣀⡠⠤⠊⠁\u001b[0m             │\n",
       "     └┬──────────┬─────────┬──────────┬─────────┬┘\n",
       "     \u001b[1;36m1.0\u001b[0m       \u001b[1;36m25.8\u001b[0m      \u001b[1;36m50.5\u001b[0m       \u001b[1;36m75.2\u001b[0m    \u001b[1;36m100.0\u001b[0m \n",
       "\n"
      ]
     },
     "metadata": {},
     "output_type": "display_data"
    }
   ],
   "source": [
    "print(blueout(plt.build()).replace(\"\\x1b[0m\",\"\"))#.split(\"\\n\")"
   ]
  },
  {
   "cell_type": "code",
   "execution_count": 29,
   "metadata": {},
   "outputs": [
    {
     "data": {
      "text/html": [
       "<pre style=\"white-space:pre;overflow-x:auto;line-height:normal;font-family:Menlo,'DejaVu Sans Mono',consolas,'Courier New',monospace\">ANSI to Rich conversion examples:\n",
       "\n",
       "</pre>\n"
      ],
      "text/plain": [
       "ANSI to Rich conversion examples:\n",
       "\n"
      ]
     },
     "metadata": {},
     "output_type": "display_data"
    },
    {
     "data": {
      "text/html": [
       "<pre style=\"white-space:pre;overflow-x:auto;line-height:normal;font-family:Menlo,'DejaVu Sans Mono',consolas,'Courier New',monospace\">Original: \u001b<span style=\"font-weight: bold\">[</span>31mRed text\u001b<span style=\"font-weight: bold\">[</span>0m\n",
       "</pre>\n"
      ],
      "text/plain": [
       "Original: \u001b\u001b[1m[\u001b[0m31mRed text\u001b\u001b[1m[\u001b[0m0m\n"
      ]
     },
     "metadata": {},
     "output_type": "display_data"
    },
    {
     "data": {
      "text/html": [
       "<pre style=\"white-space:pre;overflow-x:auto;line-height:normal;font-family:Menlo,'DejaVu Sans Mono',consolas,'Courier New',monospace\">Converted: <span style=\"color: #800000; text-decoration-color: #800000\">Red text</span>\n",
       "</pre>\n"
      ],
      "text/plain": [
       "Converted: \u001b[31mRed text\u001b[0m\n"
      ]
     },
     "metadata": {},
     "output_type": "display_data"
    },
    {
     "data": {
      "text/html": [
       "<pre style=\"white-space:pre;overflow-x:auto;line-height:normal;font-family:Menlo,'DejaVu Sans Mono',consolas,'Courier New',monospace\">\n",
       "</pre>\n"
      ],
      "text/plain": [
       "\n"
      ]
     },
     "metadata": {},
     "output_type": "display_data"
    },
    {
     "data": {
      "text/html": [
       "<pre style=\"white-space:pre;overflow-x:auto;line-height:normal;font-family:Menlo,'DejaVu Sans Mono',consolas,'Courier New',monospace\">Original: \u001b<span style=\"font-weight: bold\">[</span><span style=\"color: #008080; text-decoration-color: #008080; font-weight: bold\">1</span>;31mBold red text\u001b<span style=\"font-weight: bold\">[</span>0m\n",
       "</pre>\n"
      ],
      "text/plain": [
       "Original: \u001b\u001b[1m[\u001b[0m\u001b[1;36m1\u001b[0m;31mBold red text\u001b\u001b[1m[\u001b[0m0m\n"
      ]
     },
     "metadata": {},
     "output_type": "display_data"
    },
    {
     "data": {
      "text/html": [
       "<pre style=\"white-space:pre;overflow-x:auto;line-height:normal;font-family:Menlo,'DejaVu Sans Mono',consolas,'Courier New',monospace\">Converted: <span style=\"color: #800000; text-decoration-color: #800000; font-weight: bold\">Bold red text</span>\n",
       "</pre>\n"
      ],
      "text/plain": [
       "Converted: \u001b[1;31mBold red text\u001b[0m\n"
      ]
     },
     "metadata": {},
     "output_type": "display_data"
    },
    {
     "data": {
      "text/html": [
       "<pre style=\"white-space:pre;overflow-x:auto;line-height:normal;font-family:Menlo,'DejaVu Sans Mono',consolas,'Courier New',monospace\">\n",
       "</pre>\n"
      ],
      "text/plain": [
       "\n"
      ]
     },
     "metadata": {},
     "output_type": "display_data"
    },
    {
     "data": {
      "text/html": [
       "<pre style=\"white-space:pre;overflow-x:auto;line-height:normal;font-family:Menlo,'DejaVu Sans Mono',consolas,'Courier New',monospace\">Original: \u001b<span style=\"font-weight: bold\">[</span><span style=\"color: #008080; text-decoration-color: #008080; font-weight: bold\">31</span>;44mRed on blue\u001b<span style=\"font-weight: bold\">[</span>0m\n",
       "</pre>\n"
      ],
      "text/plain": [
       "Original: \u001b\u001b[1m[\u001b[0m\u001b[1;36m31\u001b[0m;44mRed on blue\u001b\u001b[1m[\u001b[0m0m\n"
      ]
     },
     "metadata": {},
     "output_type": "display_data"
    },
    {
     "data": {
      "text/html": [
       "<pre style=\"white-space:pre;overflow-x:auto;line-height:normal;font-family:Menlo,'DejaVu Sans Mono',consolas,'Courier New',monospace\">Converted: <span style=\"color: #800000; text-decoration-color: #800000; background-color: #000080\">Red on blue</span>\n",
       "</pre>\n"
      ],
      "text/plain": [
       "Converted: \u001b[31;44mRed on blue\u001b[0m\n"
      ]
     },
     "metadata": {},
     "output_type": "display_data"
    },
    {
     "data": {
      "text/html": [
       "<pre style=\"white-space:pre;overflow-x:auto;line-height:normal;font-family:Menlo,'DejaVu Sans Mono',consolas,'Courier New',monospace\">\n",
       "</pre>\n"
      ],
      "text/plain": [
       "\n"
      ]
     },
     "metadata": {},
     "output_type": "display_data"
    },
    {
     "data": {
      "text/html": [
       "<pre style=\"white-space:pre;overflow-x:auto;line-height:normal;font-family:Menlo,'DejaVu Sans Mono',consolas,'Courier New',monospace\">Original: \u001b<span style=\"font-weight: bold\">[</span><span style=\"color: #008080; text-decoration-color: #008080; font-weight: bold\">1</span>;<span style=\"color: #008080; text-decoration-color: #008080; font-weight: bold\">31</span>;44mBold red on blue\u001b<span style=\"font-weight: bold\">[</span>0m\n",
       "</pre>\n"
      ],
      "text/plain": [
       "Original: \u001b\u001b[1m[\u001b[0m\u001b[1;36m1\u001b[0m;\u001b[1;36m31\u001b[0m;44mBold red on blue\u001b\u001b[1m[\u001b[0m0m\n"
      ]
     },
     "metadata": {},
     "output_type": "display_data"
    },
    {
     "data": {
      "text/html": [
       "<pre style=\"white-space:pre;overflow-x:auto;line-height:normal;font-family:Menlo,'DejaVu Sans Mono',consolas,'Courier New',monospace\">Converted: <span style=\"color: #800000; text-decoration-color: #800000; background-color: #000080; font-weight: bold\">Bold red on blue</span>\n",
       "</pre>\n"
      ],
      "text/plain": [
       "Converted: \u001b[1;31;44mBold red on blue\u001b[0m\n"
      ]
     },
     "metadata": {},
     "output_type": "display_data"
    },
    {
     "data": {
      "text/html": [
       "<pre style=\"white-space:pre;overflow-x:auto;line-height:normal;font-family:Menlo,'DejaVu Sans Mono',consolas,'Courier New',monospace\">\n",
       "</pre>\n"
      ],
      "text/plain": [
       "\n"
      ]
     },
     "metadata": {},
     "output_type": "display_data"
    },
    {
     "data": {
      "text/html": [
       "<pre style=\"white-space:pre;overflow-x:auto;line-height:normal;font-family:Menlo,'DejaVu Sans Mono',consolas,'Courier New',monospace\">Original: \u001b<span style=\"font-weight: bold\">[</span>91mBright red\u001b<span style=\"font-weight: bold\">[</span>0m\n",
       "</pre>\n"
      ],
      "text/plain": [
       "Original: \u001b\u001b[1m[\u001b[0m91mBright red\u001b\u001b[1m[\u001b[0m0m\n"
      ]
     },
     "metadata": {},
     "output_type": "display_data"
    },
    {
     "data": {
      "text/html": [
       "<pre style=\"white-space:pre;overflow-x:auto;line-height:normal;font-family:Menlo,'DejaVu Sans Mono',consolas,'Courier New',monospace\">Converted: <span style=\"color: #ff0000; text-decoration-color: #ff0000\">Bright red</span>\n",
       "</pre>\n"
      ],
      "text/plain": [
       "Converted: \u001b[91mBright red\u001b[0m\n"
      ]
     },
     "metadata": {},
     "output_type": "display_data"
    },
    {
     "data": {
      "text/html": [
       "<pre style=\"white-space:pre;overflow-x:auto;line-height:normal;font-family:Menlo,'DejaVu Sans Mono',consolas,'Courier New',monospace\">\n",
       "</pre>\n"
      ],
      "text/plain": [
       "\n"
      ]
     },
     "metadata": {},
     "output_type": "display_data"
    },
    {
     "data": {
      "text/html": [
       "<pre style=\"white-space:pre;overflow-x:auto;line-height:normal;font-family:Menlo,'DejaVu Sans Mono',consolas,'Courier New',monospace\">Original: \u001b<span style=\"font-weight: bold\">[</span>31mRed\u001b<span style=\"font-weight: bold\">[</span>32m Green\u001b<span style=\"font-weight: bold\">[</span>34m Blue\u001b<span style=\"font-weight: bold\">[</span>0m\n",
       "</pre>\n"
      ],
      "text/plain": [
       "Original: \u001b\u001b[1m[\u001b[0m31mRed\u001b\u001b[1m[\u001b[0m32m Green\u001b\u001b[1m[\u001b[0m34m Blue\u001b\u001b[1m[\u001b[0m0m\n"
      ]
     },
     "metadata": {},
     "output_type": "display_data"
    },
    {
     "data": {
      "text/html": [
       "<pre style=\"white-space:pre;overflow-x:auto;line-height:normal;font-family:Menlo,'DejaVu Sans Mono',consolas,'Courier New',monospace\">Converted: <span style=\"color: #800000; text-decoration-color: #800000\">Red</span><span style=\"color: #008000; text-decoration-color: #008000\"> Green</span><span style=\"color: #000080; text-decoration-color: #000080\"> Blue</span>\n",
       "</pre>\n"
      ],
      "text/plain": [
       "Converted: \u001b[31mRed\u001b[0m\u001b[32m Green\u001b[0m\u001b[34m Blue\u001b[0m\n"
      ]
     },
     "metadata": {},
     "output_type": "display_data"
    },
    {
     "data": {
      "text/html": [
       "<pre style=\"white-space:pre;overflow-x:auto;line-height:normal;font-family:Menlo,'DejaVu Sans Mono',consolas,'Courier New',monospace\">\n",
       "</pre>\n"
      ],
      "text/plain": [
       "\n"
      ]
     },
     "metadata": {},
     "output_type": "display_data"
    },
    {
     "data": {
      "text/html": [
       "<pre style=\"white-space:pre;overflow-x:auto;line-height:normal;font-family:Menlo,'DejaVu Sans Mono',consolas,'Courier New',monospace\">Original: \u001b<span style=\"font-weight: bold\">[</span>31mRed \u001b<span style=\"font-weight: bold\">[</span>1mbold red\u001b<span style=\"font-weight: bold\">[</span>0m\n",
       "</pre>\n"
      ],
      "text/plain": [
       "Original: \u001b\u001b[1m[\u001b[0m31mRed \u001b\u001b[1m[\u001b[0m1mbold red\u001b\u001b[1m[\u001b[0m0m\n"
      ]
     },
     "metadata": {},
     "output_type": "display_data"
    },
    {
     "data": {
      "text/html": [
       "<pre style=\"white-space:pre;overflow-x:auto;line-height:normal;font-family:Menlo,'DejaVu Sans Mono',consolas,'Courier New',monospace\">Converted: <span style=\"color: #800000; text-decoration-color: #800000\">Red </span><span style=\"color: #800000; text-decoration-color: #800000; font-weight: bold\">bold red</span>\n",
       "</pre>\n"
      ],
      "text/plain": [
       "Converted: \u001b[31mRed \u001b[0m\u001b[1;31mbold red\u001b[0m\n"
      ]
     },
     "metadata": {},
     "output_type": "display_data"
    },
    {
     "data": {
      "text/html": [
       "<pre style=\"white-space:pre;overflow-x:auto;line-height:normal;font-family:Menlo,'DejaVu Sans Mono',consolas,'Courier New',monospace\">\n",
       "</pre>\n"
      ],
      "text/plain": [
       "\n"
      ]
     },
     "metadata": {},
     "output_type": "display_data"
    },
    {
     "data": {
      "text/html": [
       "<pre style=\"white-space:pre;overflow-x:auto;line-height:normal;font-family:Menlo,'DejaVu Sans Mono',consolas,'Courier New',monospace\">Original: \u001b<span style=\"font-weight: bold\">[</span>3mItalic\u001b<span style=\"font-weight: bold\">[</span>0m \u001b<span style=\"font-weight: bold\">[</span>4mUnderline\u001b<span style=\"font-weight: bold\">[</span>0m\n",
       "</pre>\n"
      ],
      "text/plain": [
       "Original: \u001b\u001b[1m[\u001b[0m3mItalic\u001b\u001b[1m[\u001b[0m0m \u001b\u001b[1m[\u001b[0m4mUnderline\u001b\u001b[1m[\u001b[0m0m\n"
      ]
     },
     "metadata": {},
     "output_type": "display_data"
    },
    {
     "data": {
      "text/html": [
       "<pre style=\"white-space:pre;overflow-x:auto;line-height:normal;font-family:Menlo,'DejaVu Sans Mono',consolas,'Courier New',monospace\">Converted: <span style=\"font-style: italic\">Italic</span> <span style=\"text-decoration: underline\">Underline</span>\n",
       "</pre>\n"
      ],
      "text/plain": [
       "Converted: \u001b[3mItalic\u001b[0m \u001b[4mUnderline\u001b[0m\n"
      ]
     },
     "metadata": {},
     "output_type": "display_data"
    },
    {
     "data": {
      "text/html": [
       "<pre style=\"white-space:pre;overflow-x:auto;line-height:normal;font-family:Menlo,'DejaVu Sans Mono',consolas,'Courier New',monospace\">\n",
       "</pre>\n"
      ],
      "text/plain": [
       "\n"
      ]
     },
     "metadata": {},
     "output_type": "display_data"
    },
    {
     "data": {
      "text/html": [
       "<pre style=\"white-space:pre;overflow-x:auto;line-height:normal;font-family:Menlo,'DejaVu Sans Mono',consolas,'Courier New',monospace\">Original: \u001b<span style=\"font-weight: bold\">[</span><span style=\"color: #008080; text-decoration-color: #008080; font-weight: bold\">1</span>;<span style=\"color: #008080; text-decoration-color: #008080; font-weight: bold\">3</span>;<span style=\"color: #008080; text-decoration-color: #008080; font-weight: bold\">4</span>;31mBold italic underlined red\u001b<span style=\"font-weight: bold\">[</span>0m\n",
       "</pre>\n"
      ],
      "text/plain": [
       "Original: \u001b\u001b[1m[\u001b[0m\u001b[1;36m1\u001b[0m;\u001b[1;36m3\u001b[0m;\u001b[1;36m4\u001b[0m;31mBold italic underlined red\u001b\u001b[1m[\u001b[0m0m\n"
      ]
     },
     "metadata": {},
     "output_type": "display_data"
    },
    {
     "data": {
      "text/html": [
       "<pre style=\"white-space:pre;overflow-x:auto;line-height:normal;font-family:Menlo,'DejaVu Sans Mono',consolas,'Courier New',monospace\">Converted: <span style=\"color: #800000; text-decoration-color: #800000; font-weight: bold; font-style: italic; text-decoration: underline\">Bold italic underlined red</span>\n",
       "</pre>\n"
      ],
      "text/plain": [
       "Converted: \u001b[1;3;4;31mBold italic underlined red\u001b[0m\n"
      ]
     },
     "metadata": {},
     "output_type": "display_data"
    },
    {
     "data": {
      "text/html": [
       "<pre style=\"white-space:pre;overflow-x:auto;line-height:normal;font-family:Menlo,'DejaVu Sans Mono',consolas,'Courier New',monospace\">\n",
       "</pre>\n"
      ],
      "text/plain": [
       "\n"
      ]
     },
     "metadata": {},
     "output_type": "display_data"
    }
   ],
   "source": [
    "import re\n",
    "from typing import Dict, Tuple\n",
    "from rich import print\n",
    "def ansi_to_rich(text: str) -> str:\n",
    "    \"\"\"\n",
    "    Convert ANSI escape codes to Rich/Textual markup format.\n",
    "    \n",
    "    Handles:\n",
    "    - Basic colors (30-37, 90-97 foreground, 40-47, 100-107 background)\n",
    "    - Bright/bold (1)\n",
    "    - Dim (2)\n",
    "    - Italic (3)\n",
    "    - Underline (4)\n",
    "    - Reset (0)\n",
    "    \n",
    "    Args:\n",
    "        text (str): Text containing ANSI escape sequences\n",
    "        \n",
    "    Returns:\n",
    "        str: Text with Rich markup\n",
    "    \"\"\"\n",
    "    # Maps for foreground and background colors\n",
    "    FG_COLORS: Dict[str, str] = {\n",
    "        '30': 'black',\n",
    "        '31': 'red',\n",
    "        '32': 'green',\n",
    "        '33': 'yellow',\n",
    "        '34': 'blue',\n",
    "        '35': 'magenta',\n",
    "        '36': 'cyan',\n",
    "        '37': 'white',\n",
    "        '90': 'bright_black',\n",
    "        '91': 'bright_red',\n",
    "        '92': 'bright_green',\n",
    "        '93': 'bright_yellow',\n",
    "        '94': 'bright_blue',\n",
    "        '95': 'bright_magenta',\n",
    "        '96': 'bright_cyan',\n",
    "        '97': 'bright_white'\n",
    "    }\n",
    "    \n",
    "    BG_COLORS: Dict[str, str] = {\n",
    "        '40': 'on black',\n",
    "        '41': 'on red',\n",
    "        '42': 'on green',\n",
    "        '43': 'on yellow',\n",
    "        '44': 'on blue',\n",
    "        '45': 'on magenta',\n",
    "        '46': 'on cyan',\n",
    "        '47': 'on white',\n",
    "        '100': 'on bright_black',\n",
    "        '101': 'on bright_red',\n",
    "        '102': 'on bright_green',\n",
    "        '103': 'on bright_yellow',\n",
    "        '104': 'on bright_blue',\n",
    "        '105': 'on bright_magenta',\n",
    "        '106': 'on bright_cyan',\n",
    "        '107': 'on bright_white'\n",
    "    }\n",
    "    \n",
    "    # Stack to keep track of active styles\n",
    "    style_stack: list[str] = []\n",
    "    \n",
    "    def handle_escape_sequence(match: re.Match) -> str:\n",
    "        \"\"\"Process a single escape sequence and return Rich markup.\"\"\"\n",
    "        codes = match.group(1).split(';')\n",
    "        \n",
    "        if '0' in codes:  # Reset all formatting\n",
    "            style_stack.clear()\n",
    "            return '[/]'\n",
    "        \n",
    "        styles = []\n",
    "        for code in codes:\n",
    "            if code == '1':\n",
    "                styles.append('bold')\n",
    "            elif code == '2':\n",
    "                styles.append('dim')\n",
    "            elif code == '3':\n",
    "                styles.append('italic')\n",
    "            elif code == '4':\n",
    "                styles.append('underline')\n",
    "            elif code in FG_COLORS:\n",
    "                styles.append(FG_COLORS[code])\n",
    "            elif code in BG_COLORS:\n",
    "                styles.append(BG_COLORS[code])\n",
    "        \n",
    "        if styles:\n",
    "            style_str = ' '.join(styles)\n",
    "            style_stack.append(style_str)\n",
    "            return f'[{style_str}]'\n",
    "        return ''\n",
    "\n",
    "    # Replace all escape sequences\n",
    "    pattern = r'\\x1b\\[([0-9;]*)m'\n",
    "    result = re.sub(pattern, handle_escape_sequence, text)\n",
    "    \n",
    "    # Ensure all styles are properly closed\n",
    "    if style_stack:\n",
    "        result += '[/]'\n",
    "        style_stack.clear()\n",
    "    \n",
    "    return result\n",
    "\n",
    "# Example usage\n",
    "if __name__ == \"__main__\":\n",
    "    # Test various ANSI combinations\n",
    "    test_cases = [\n",
    "        # Basic colors\n",
    "        \"\\x1b[31mRed text\\x1b[0m\",\n",
    "        # Multiple styles\n",
    "        \"\\x1b[1;31mBold red text\\x1b[0m\",\n",
    "        # Background colors\n",
    "        \"\\x1b[31;44mRed on blue\\x1b[0m\",\n",
    "        # Complex formatting\n",
    "        \"\\x1b[1;31;44mBold red on blue\\x1b[0m\",\n",
    "        # Bright colors\n",
    "        \"\\x1b[91mBright red\\x1b[0m\",\n",
    "        # Multiple segments\n",
    "        \"\\x1b[31mRed\\x1b[32m Green\\x1b[34m Blue\\x1b[0m\",\n",
    "        # Nested styles\n",
    "        \"\\x1b[31mRed \\x1b[1mbold red\\x1b[0m\",\n",
    "        # Other attributes\n",
    "        \"\\x1b[3mItalic\\x1b[0m \\x1b[4mUnderline\\x1b[0m\",\n",
    "        # Combined styles\n",
    "        \"\\x1b[1;3;4;31mBold italic underlined red\\x1b[0m\"\n",
    "    ]\n",
    "\n",
    "    print(\"ANSI to Rich conversion examples:\\n\")\n",
    "    for test in test_cases:\n",
    "        print(f\"Original: {test}\")\n",
    "        print(f\"Converted: {ansi_to_rich(test)}\")\n",
    "        print()"
   ]
  },
  {
   "cell_type": "code",
   "execution_count": null,
   "metadata": {},
   "outputs": [
    {
     "name": "stdout",
     "output_type": "stream",
     "text": [
      "Original string:\n",
      "Hello \u001b[31mRed\u001b[0m World!\n",
      "This is \u001b[1mBold\u001b[0m text\n",
      "\u001b[34mBlue line\u001b[0m\n",
      "Short\u001b[32m line\u001b[0m\n",
      "\n",
      "Padded string:\n",
      "Hello \u001b[31mRed \u001b[0m World!\n",
      "This is \u001b[1mBold\u001b[0m text\n",
      "\u001b[34mBlue line        \u001b[0m\n",
      "Short\u001b[32m line       \u001b[0m\n",
      "\n",
      "Line widths:\n",
      "Line 1: 16 visible characters\n",
      "Line 2: 17 visible characters\n",
      "Line 3: 9 visible characters\n",
      "Line 4: 10 visible characters\n"
     ]
    }
   ],
   "source": [
    "import re\n",
    "\n",
    "def get_visible_length(text: str) -> int:\n",
    "    \"\"\"\n",
    "    Get the visible length of a string, ignoring ANSI escape codes.\n",
    "    \n",
    "    Args:\n",
    "        text (str): Text that may contain ANSI escape codes\n",
    "        \n",
    "    Returns:\n",
    "        int: Length of the text as it would appear in the terminal\n",
    "    \"\"\"\n",
    "    # Remove all ANSI escape sequences\n",
    "    # This pattern matches most common ANSI escape codes:\n",
    "    # \\x1b[...m for colors and formatting\n",
    "    # \\x1b[...A-H for cursor movement\n",
    "    # \\x1b[...J-K for clearing\n",
    "    ansi_pattern = r'\\x1b\\[[^m]*m|\\x1b\\[\\d*[A-H]|\\x1b\\[\\d*[J-K]'\n",
    "    clean_text = re.sub(ansi_pattern, '', text)\n",
    "    return len(clean_text)\n",
    "\n",
    "def padstr(text: str) -> str:\n",
    "    import re\n",
    "\n",
    "    def get_visible_length(text: str) -> int:\n",
    "        \"\"\"\n",
    "        Get the visible length of a string, ignoring ANSI escape codes.\n",
    "    \n",
    "        Args:\n",
    "            text (str): Text that may contain ANSI escape codes\n",
    "        \n",
    "        Returns:\n",
    "            int: Length of the text as it would appear in the terminal\n",
    "        \"\"\"\n",
    "        # Remove all ANSI escape sequences\n",
    "        # This pattern matches most common ANSI escape codes:\n",
    "        # \\x1b[...m for colors and formatting\n",
    "        # \\x1b[...A-H for cursor movement\n",
    "        # \\x1b[...J-K for clearing\n",
    "        ansi_pattern = r'\\x1b\\[[^m]*m|\\x1b\\[\\d*[A-H]|\\x1b\\[\\d*[J-K]'\n",
    "        clean_text = re.sub(ansi_pattern, '', text)\n",
    "        return len(clean_text)\n",
    "\n",
    "    def padstr(text: str) -> str:\n",
    "        \"\"\"\n",
    "        Pad each line in a string to have the same visible width,\n",
    "        preserving ANSI escape codes.\n",
    "    \n",
    "        Args:\n",
    "            text (str): Input string with multiple lines and possible ANSI codes\n",
    "        \n",
    "        Returns:\n",
    "            str: String with each line padded to the same visible width\n",
    "        \"\"\"\n",
    "        # Split into lines\n",
    "        lines = text.split('\\n')\n",
    "    \n",
    "        # Calculate the maximum visible width among all lines\n",
    "        max_width = max(get_visible_length(line) for line in lines)\n",
    "    \n",
    "        # Pad each line to match the maximum width\n",
    "        padded_lines = []\n",
    "        for line in lines:\n",
    "            visible_width = get_visible_length(line)\n",
    "            padding_needed = max_width - visible_width\n",
    "            # Add padding before any trailing escape codes\n",
    "            # Find the last escape code if it exists\n",
    "            last_escape = line.rfind('\\x1b')\n",
    "            if last_escape != -1 and line.find('m', last_escape) != -1:\n",
    "                # There's a trailing escape code, insert padding before it\n",
    "                last_code_start = last_escape\n",
    "                while last_code_start > 0 and line[last_code_start-1] == '\\x1b':\n",
    "                    last_code_start -= 1\n",
    "                padded_line = line[:last_code_start] + ' ' * padding_needed + line[last_code_start:]\n",
    "            else:\n",
    "                # No trailing escape code, just append padding\n",
    "                padded_line = line + ' ' * padding_needed\n",
    "            padded_lines.append(padded_line)\n",
    "    \n",
    "        # Join back with newlines\n",
    "        return '\\n'.join(padded_lines)\n",
    "\n",
    "# Example usage\n",
    "if __name__ == \"__main__\":\n",
    "    # Test string with ANSI escape codes\n",
    "    test_string = \"\"\"Hello \\x1b[31mRed\\x1b[0m World!\n",
    "This is \\x1b[1mBold\\x1b[0m text\n",
    "\\x1b[34mBlue line\\x1b[0m\n",
    "Short\\x1b[32m line\\x1b[0m\"\"\"\n",
    "\n",
    "    print(\"Original string:\")\n",
    "    print(test_string)\n",
    "    print(\"\\nPadded string:\")\n",
    "    print(pad_string_lines(test_string))\n",
    "    \n",
    "    # Print widths for verification\n",
    "    print(\"\\nLine widths:\")\n",
    "    for i, line in enumerate(test_string.split('\\n')):\n",
    "        print(f\"Line {i + 1}: {get_visible_length(line)} visible characters\")"
   ]
  }
 ],
 "metadata": {
  "kernelspec": {
   "display_name": "MONO3D",
   "language": "python",
   "name": "python3"
  },
  "language_info": {
   "codemirror_mode": {
    "name": "ipython",
    "version": 3
   },
   "file_extension": ".py",
   "mimetype": "text/x-python",
   "name": "python",
   "nbconvert_exporter": "python",
   "pygments_lexer": "ipython3",
   "version": "3.10.9"
  }
 },
 "nbformat": 4,
 "nbformat_minor": 2
}
